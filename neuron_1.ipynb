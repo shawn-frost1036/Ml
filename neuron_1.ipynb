import numpy as np
import matplotlib.pyplot as plt
from sklearn.datasets import make_blobs
X, y = make_blobs(n_samples = 100, n_features = 2, centers = 2, random_state = 0)
plt.scatter(X[:,0], X[:,1], c=y, cmap="summer")
plt.show()
